{
 "cells": [
  {
   "cell_type": "markdown",
   "metadata": {},
   "source": [
    "# Naive polynomial multiplication"
   ]
  },
  {
   "cell_type": "code",
   "execution_count": 3,
   "metadata": {
    "collapsed": true
   },
   "outputs": [],
   "source": [
    "def polynomial_multiplication1(A, B):\n",
    "    degree_a = len(A)\n",
    "    degree_b = len(B)\n",
    "    degree_c = len(A) + len(B) - 1\n",
    "    A += [0] * (degree_c - degree_a)\n",
    "    B += [0] * (degree_c - degree_b)\n",
    "    C = [0] * degree_c\n",
    "    for i in range(degree_c):\n",
    "        for j in range(i+1):\n",
    "            C[i] += A[j] * B[i-j]\n",
    "    return C"
   ]
  },
  {
   "cell_type": "code",
   "execution_count": 8,
   "metadata": {
    "collapsed": true
   },
   "outputs": [],
   "source": [
    "def polynomial_multiplication2(A, B):\n",
    "    degree_a = len(A)\n",
    "    degree_b = len(B)\n",
    "    degree_c = len(A) + len(B) - 1\n",
    "    C = [0] * degree_c\n",
    "    for i in range(degree_a):\n",
    "        for j in range(degree_b):\n",
    "            C[i+j] += A[i] * B[j]\n",
    "    return C"
   ]
  },
  {
   "cell_type": "code",
   "execution_count": 12,
   "metadata": {
    "collapsed": false
   },
   "outputs": [
    {
     "name": "stdout",
     "output_type": "stream",
     "text": [
      "100000 loops, best of 3: 10.8 µs per loop\n",
      "100000 loops, best of 3: 5.89 µs per loop\n"
     ]
    }
   ],
   "source": [
    "A = [9, -10, 7, 6]\n",
    "B = [-5, 4, 0, -2]\n",
    "%timeit polynomial_multiplication1(A[:], B[:])\n",
    "%timeit polynomial_multiplication2(A[:], B[:])\n"
   ]
  },
  {
   "cell_type": "code",
   "execution_count": 30,
   "metadata": {
    "collapsed": false
   },
   "outputs": [],
   "source": [
    "def num_to_rev_list(num):\n",
    "    ls = []\n",
    "    while num != 0:\n",
    "        ls.append(num % 10)\n",
    "        num /= 10\n",
    "    return ls\n",
    "\n",
    "def rev_list_to_num1(ls):\n",
    "    res = 0\n",
    "    power = 1\n",
    "    for digit in ls:\n",
    "        res += digit * power\n",
    "        power *= 10\n",
    "    return res\n",
    "        \n",
    "def rev_list_to_num2(ls):\n",
    "    res = 0\n",
    "    for power, digit in enumerate(ls):\n",
    "        res += digit * (10 ** power)\n",
    "    return res"
   ]
  },
  {
   "cell_type": "code",
   "execution_count": 34,
   "metadata": {
    "collapsed": false
   },
   "outputs": [
    {
     "name": "stdout",
     "output_type": "stream",
     "text": [
      "10000000 loops, best of 3: 17 ns per loop\n",
      "100000000 loops, best of 3: 17.2 ns per loop\n"
     ]
    }
   ],
   "source": [
    "A = [9, -10, 7, 6]\n",
    "%timeit 9 ** 100\n",
    "%timeit 9 * 100"
   ]
  },
  {
   "cell_type": "code",
   "execution_count": null,
   "metadata": {
    "collapsed": true
   },
   "outputs": [],
   "source": []
  }
 ],
 "metadata": {
  "kernelspec": {
   "display_name": "Python 2",
   "language": "python",
   "name": "python2"
  },
  "language_info": {
   "codemirror_mode": {
    "name": "ipython",
    "version": 2
   },
   "file_extension": ".py",
   "mimetype": "text/x-python",
   "name": "python",
   "nbconvert_exporter": "python",
   "pygments_lexer": "ipython2",
   "version": "2.7.11"
  }
 },
 "nbformat": 4,
 "nbformat_minor": 0
}
