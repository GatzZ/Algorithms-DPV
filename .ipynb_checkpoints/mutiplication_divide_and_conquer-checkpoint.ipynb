{
 "cells": [
  {
   "cell_type": "code",
   "execution_count": 18,
   "metadata": {
    "collapsed": false
   },
   "outputs": [
    {
     "data": {
      "text/plain": [
       "'0b10000000000'"
      ]
     },
     "execution_count": 18,
     "metadata": {},
     "output_type": "execute_result"
    }
   ],
   "source": [
    "bin(1024)"
   ]
  },
  {
   "cell_type": "code",
   "execution_count": 13,
   "metadata": {
    "collapsed": false
   },
   "outputs": [
    {
     "data": {
      "text/plain": [
       "1024"
      ]
     },
     "execution_count": 13,
     "metadata": {},
     "output_type": "execute_result"
    }
   ],
   "source": [
    "int(bin(1024), base=2)"
   ]
  },
  {
   "cell_type": "code",
   "execution_count": 11,
   "metadata": {
    "collapsed": false
   },
   "outputs": [
    {
     "data": {
      "text/plain": [
       "13"
      ]
     },
     "execution_count": 11,
     "metadata": {},
     "output_type": "execute_result"
    }
   ],
   "source": [
    "len(bin(1024))"
   ]
  },
  {
   "cell_type": "code",
   "execution_count": 10,
   "metadata": {
    "collapsed": false
   },
   "outputs": [
    {
     "data": {
      "text/plain": [
       "str"
      ]
     },
     "execution_count": 10,
     "metadata": {},
     "output_type": "execute_result"
    }
   ],
   "source": [
    "type(bin(1016))"
   ]
  },
  {
   "cell_type": "code",
   "execution_count": 20,
   "metadata": {
    "collapsed": false
   },
   "outputs": [
    {
     "data": {
      "text/plain": [
       "2147483648L"
      ]
     },
     "execution_count": 20,
     "metadata": {},
     "output_type": "execute_result"
    }
   ],
   "source": [
    "2 ** 31 "
   ]
  },
  {
   "cell_type": "code",
   "execution_count": 80,
   "metadata": {
    "collapsed": false
   },
   "outputs": [],
   "source": [
    "def bit_len(x):\n",
    "    return len(bin(x)) - 2 \n",
    "\n",
    "\n",
    "\n",
    "#mutiplication_divide_and_conquer\n",
    "def mutilipy(x, y):\n",
    "#     import pdb; pdb.set_trace()\n",
    "    n_x = bit_len(x)     #n = pow(2)\n",
    "    n_y = bit_len(y)     #n = pow(2)\n",
    "#     print n\n",
    "#     print bit_len(y)\n",
    "    if n_x == 1 or n_x != n_y:\n",
    "        return x * y\n",
    "    n_x_half = n_x / 2\n",
    "    n_y_half = n_y / 2\n",
    "    x_l = int(bin(x)[2:][:n_x_half], base=2)\n",
    "    x_r = int(bin(x)[2:][n_x_half:], base=2)\n",
    "    y_l = int(bin(y)[2:][:n_y_half], base=2)\n",
    "    y_r = int(bin(y)[2:][n_y_half:], base=2)\n",
    "    print x_l, x_r, y_l, y_r\n",
    "    p1 = mutilipy(x_l, y_l)\n",
    "    p2 = mutilipy(x_r, y_r)\n",
    "    p3 = mutilipy(x_l + x_r, y_l + y_r)\n",
    "    print p1, p2, p3\n",
    "    return (p1 << (n_x_half + n_y_half)) + ((p3 - p1 - p2) << n_x_half) + p2\n",
    "    "
   ]
  },
  {
   "cell_type": "code",
   "execution_count": 91,
   "metadata": {
    "collapsed": false
   },
   "outputs": [
    {
     "name": "stdout",
     "output_type": "stream",
     "text": [
      "16900\n",
      "8 2 8 2\n",
      "2 0 2 0\n",
      "1 0 1 0\n",
      "1 0 1\n",
      "1 0 1 0\n",
      "1 0 1\n",
      "4 0 4\n",
      "1 0 1 0\n",
      "1 0 1\n",
      "2 2 2 2\n",
      "1 0 1 0\n",
      "1 0 1\n",
      "1 0 1 0\n",
      "1 0 1\n",
      "1 0 1 0\n",
      "1 0 1\n",
      "4 4 4\n",
      "64 4 52\n",
      "16132\n",
      "8 2 8 2\n",
      "2 0 2 0\n",
      "1 0 1 0\n",
      "1 0 1\n",
      "1 0 1 0\n",
      "1 0 1\n",
      "4 0 4\n",
      "1 0 1 0\n",
      "1 0 1\n",
      "2 2 2 2\n",
      "1 0 1 0\n",
      "1 0 1\n",
      "1 0 1 0\n",
      "1 0 1\n",
      "1 0 1 0\n",
      "1 0 1\n",
      "4 4 4\n",
      "64 4 52\n"
     ]
    },
    {
     "data": {
      "text/plain": [
       "1"
      ]
     },
     "execution_count": 91,
     "metadata": {},
     "output_type": "execute_result"
    }
   ],
   "source": [
    "a = 130\n",
    "b = 130\n",
    "print a*b\n",
    "print mutilipy(a, b)\n",
    "a*b // mutilipy(a, b)"
   ]
  },
  {
   "cell_type": "code",
   "execution_count": 88,
   "metadata": {
    "collapsed": false
   },
   "outputs": [
    {
     "data": {
      "text/plain": [
       "128"
      ]
     },
     "execution_count": 88,
     "metadata": {},
     "output_type": "execute_result"
    }
   ],
   "source": [
    "2 ** 7"
   ]
  },
  {
   "cell_type": "code",
   "execution_count": null,
   "metadata": {
    "collapsed": true
   },
   "outputs": [],
   "source": []
  }
 ],
 "metadata": {
  "kernelspec": {
   "display_name": "Python 2",
   "language": "python",
   "name": "python2"
  },
  "language_info": {
   "codemirror_mode": {
    "name": "ipython",
    "version": 2
   },
   "file_extension": ".py",
   "mimetype": "text/x-python",
   "name": "python",
   "nbconvert_exporter": "python",
   "pygments_lexer": "ipython2",
   "version": "2.7.11"
  }
 },
 "nbformat": 4,
 "nbformat_minor": 0
}
