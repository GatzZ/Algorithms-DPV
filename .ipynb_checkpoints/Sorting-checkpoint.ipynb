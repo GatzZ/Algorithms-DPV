{
 "cells": [
  {
   "cell_type": "code",
   "execution_count": 5,
   "metadata": {
    "collapsed": false
   },
   "outputs": [
    {
     "name": "stdout",
     "output_type": "stream",
     "text": [
      "[-1, 1, 2, 3, 3, 4, 5, 8, 9]\n"
     ]
    }
   ],
   "source": [
    "# Bubble Sort\n",
    "def bubble_sort(array):        \n",
    "    #i = n-1, n-2,...,1, then the nested loop will scan array of length i+1 (0, 1,..., i)\n",
    "    for i in range(len(array)-1, 0, -1):\n",
    "        swapped = False\n",
    "        #Put the biggest one to array(i)   \n",
    "        for j in range(0, i):\n",
    "            if array[j] > array[j+1]:\n",
    "                array[j], array[j+1] = array[j+1], array[j]\n",
    "                swapped = True     \n",
    "        if not swapped:\n",
    "            break\n",
    "\n",
    "# array = [3, 1, 4, 2, -1, 5, 8 ,3, 9]\n",
    "# bubble_sort(array)\n",
    "# print array"
   ]
  },
  {
   "cell_type": "code",
   "execution_count": 7,
   "metadata": {
    "collapsed": false
   },
   "outputs": [
    {
     "name": "stdout",
     "output_type": "stream",
     "text": [
      "[-1, 1, 2, 3, 3, 4, 5, 8, 9]\n"
     ]
    }
   ],
   "source": [
    "#Insertion Sort 1\n",
    "def insertion_sort1(array):    \n",
    "    for i in range(1, len(array)):\n",
    "        for j in range(i, 0, -1):\n",
    "            if array[j-1] > array[j]:\n",
    "                array[j-1], array[j] = array[j], array[j-1]\n",
    "            else:# The first (i-1) positions were sorted\n",
    "                break\n",
    "\n",
    "# array = [3, 1, 4, 2, -1, 5, 8 ,3, 9]\n",
    "# insertion_sort1(array)\n",
    "# print array"
   ]
  },
  {
   "cell_type": "code",
   "execution_count": 8,
   "metadata": {
    "collapsed": false
   },
   "outputs": [
    {
     "name": "stdout",
     "output_type": "stream",
     "text": [
      "[-1, 1, 2, 3, 3, 4, 5, 8, 9]\n"
     ]
    }
   ],
   "source": [
    "#Insertion Sort 3\n",
    "def insertion_sort3(array):    \n",
    "    for i in range(1, len(array)):\n",
    "        t = array[i]\n",
    "        ####\n",
    "        j = i\n",
    "        while j > 0 and array[j-1] > t:\n",
    "            array[j] = array[j-1]\n",
    "            j -= 1\n",
    "        ####\n",
    "        #####C-version. mind the difference\n",
    "        #for (j=i; j>0 && x[j-1] > t; j--)\n",
    "        #    x[j] = x[j-1]\n",
    "        #####\n",
    "        array[j] = t\n",
    "\n",
    "        \n",
    "# array = [3, 1, 4, 2, -1, 5, 8 ,3, 9]\n",
    "# insertion_sort3(array)\n",
    "# print array"
   ]
  },
  {
   "cell_type": "code",
   "execution_count": 9,
   "metadata": {
    "collapsed": false
   },
   "outputs": [],
   "source": [
    "#merge sort\n",
    "def merge_sort(array):\n",
    "    #import pdb; pdb.set_trace()\n",
    "    if len(array) > 1:\n",
    "        middle = len(array) / 2\n",
    "        return merge(merge_sort(array[:middle]), merge_sort(array[middle:]))\n",
    "    else:\n",
    "        return array\n",
    "\n",
    "def merge(array1, array2):\n",
    "    if not array1:\n",
    "        return array2\n",
    "    \n",
    "    if not array2:\n",
    "        return array1\n",
    "    \n",
    "    if array1[0] <= array2[0]:\n",
    "        return array1[0:1] + merge(array1[1:], array2)\n",
    "    else:\n",
    "        return array2[0:1] + merge(array2[1:], array1)"
   ]
  },
  {
   "cell_type": "code",
   "execution_count": 13,
   "metadata": {
    "collapsed": false
   },
   "outputs": [
    {
     "name": "stdout",
     "output_type": "stream",
     "text": [
      "iteraion 0 : [3, 1, 4, 2, -1, 5, 8, 3, 9]\n",
      "iteraion 1 : [3, 1, 4, 2, 5, 8, 3, 9]\n",
      "iteraion 2 : [3, 4, 2, 5, 8, 3, 9]\n",
      "iteraion 3 : [3, 4, 5, 8, 3, 9]\n",
      "iteraion 4 : [4, 5, 8, 3, 9]\n",
      "iteraion 5 : [4, 5, 8, 9]\n",
      "iteraion 6 : [5, 8, 9]\n",
      "iteraion 7 : [8, 9]\n",
      "iteraion 8 : [9]\n",
      "result:  [-1, 1, 2, 3, 3, 4, 5, 8, 9]\n"
     ]
    }
   ],
   "source": [
    "#iterative mergesort\n",
    "def merge(item1, item2):\n",
    "    if item1 < item2:\n",
    "        return item1\n",
    "    else:\n",
    "        return item2\n",
    "\n",
    "def enqueue(array, item):\n",
    "    array.append(item)\n",
    "\n",
    "def dequeue(array):\n",
    "    if len(array) > 0:\n",
    "        return array.pop(0)\n",
    "    else:\n",
    "        return None\n",
    "\n",
    "def iterative_mergesort(array):\n",
    "    while len(array) > 1:\n",
    "        enqueue(array, merge(dequeue(array), dequeue(array)))\n",
    "    return dequeue(array)\n",
    "\n",
    "array = [3, 1, 4, 2, -1, 5, 8 ,3, 9]\n",
    "result = []\n",
    "for i in range(len(array)):\n",
    "    print 'iteraion', i, ':', array\n",
    "    tmp = iterative_mergesort(array[:])\n",
    "    array.remove(tmp)\n",
    "    result.append(tmp)\n",
    "\n",
    "print 'result: ', result "
   ]
  },
  {
   "cell_type": "markdown",
   "metadata": {},
   "source": [
    "## The below quick sorts are from *Programming Pearls*"
   ]
  },
  {
   "cell_type": "code",
   "execution_count": 14,
   "metadata": {
    "collapsed": false
   },
   "outputs": [
    {
     "name": "stdout",
     "output_type": "stream",
     "text": [
      "10\n",
      "10\n"
     ]
    }
   ],
   "source": [
    "def median_of_three(a, b, c):\n",
    "    if a < b:\n",
    "        if b < c:\n",
    "            return b\n",
    "        #If come to this step, means b is largest\n",
    "        elif a < c:\n",
    "            return c\n",
    "        else:\n",
    "            return a\n",
    "    else: #a >= b\n",
    "        if b > c:\n",
    "            return b\n",
    "        #If come to step, means a is largest\n",
    "        else:\n",
    "            return c\n",
    "\n",
    "# a = [9, 10, 30]\n",
    "# print sorted([a[0], a[1], a[2]])[1]\n",
    "# print median_of_three(a[0], a[1], a[2]) #faster\n"
   ]
  },
  {
   "cell_type": "code",
   "execution_count": 15,
   "metadata": {
    "collapsed": false
   },
   "outputs": [],
   "source": [
    "def quick_sort1(ls, l, r): \n",
    "    #l: start point\n",
    "    #u: end point (inclusive)\n",
    "    if l >= r:\n",
    "        return\n",
    "    \n",
    "    #select the pivot\n",
    "    pivot = median_of_three(ls[l], ls[r/2], ls[r]) #use the midean as pivot\n",
    "    \n",
    "    if pivot == ls[l]:\n",
    "        pivot_idx = l\n",
    "    elif pivot == ls[r/2]:\n",
    "        pivot_idx = r/2\n",
    "    else:\n",
    "        pivot_idx = r\n",
    "        \n",
    "    ls[l], ls[pivot_idx] = ls[pivot_idx], ls[l]\n",
    "    \n",
    "    #partition \n",
    "    m = l\n",
    "    #when the loop ends, it shows ls[l+1, ... , m] < pivot, \n",
    "    #then you can put ls[m] to ls[l] (there must be ls[m] < pivot)\n",
    "    for i in range(l+1, r+1):\n",
    "        if ls[i] < pivot: \n",
    "            m += 1\n",
    "            ls[m], ls[i] = ls[i], ls[m]\n",
    "            \n",
    "    ls[m], ls[l] = ls[l], ls[m]\n",
    "    \n",
    "    #recrusive\n",
    "    quick_sort1(ls, l, m-1)\n",
    "    quick_sort1(ls, m+1, r)\n",
    "\n",
    "# array = [3, 1, 4, 2, -1, 5, 8 ,3, 9]\n",
    "# quick_sort1(array, 0, len(array)-1)\n",
    "# print array"
   ]
  },
  {
   "cell_type": "code",
   "execution_count": null,
   "metadata": {
    "collapsed": true
   },
   "outputs": [],
   "source": [
    "#Details in Sedgewick's Algorithm (Problem 2.3.17)\n",
    "def quick_sort2(ls, l, r):\n",
    "    #l: start point\n",
    "    #u: end point (inclusive)\n",
    "    if l >= r:\n",
    "        return\n",
    "    #select the pivot\n",
    "    pivot = median_of_three(ls[l], ls[r/2], ls[r]) #use the midean as pivot\n",
    "    \n",
    "    if pivot == ls[l]:\n",
    "        pivot_idx = l\n",
    "    elif pivot == ls[r/2]:\n",
    "        pivot_idx = r/2\n",
    "    else:\n",
    "        pivot_idx = r\n",
    "        \n",
    "    ls[l], ls[pivot_idx] = ls[pivot_idx], ls[l]\n",
    "    \n",
    "    #TODO\n",
    "    pass\n",
    "    "
   ]
  },
  {
   "cell_type": "code",
   "execution_count": 16,
   "metadata": {
    "collapsed": false
   },
   "outputs": [],
   "source": [
    "#Two-sided partitioning quick sort\n",
    "#In case of all elements are equal in ls, quick_sort3 use less swaps than quick_sort1\n",
    "def quick_sort3(ls, l, r):\n",
    "    #l: start point\n",
    "    #u: end point (inclusive)\n",
    "    if l >= r:\n",
    "        return\n",
    "    \n",
    "    #select the pivot\n",
    "    pivot = median_of_three(ls[l], ls[r/2], ls[r]) #use the midean as pivot  \n",
    "    if pivot == ls[l]:\n",
    "        pivot_idx = l\n",
    "    elif pivot == ls[r/2]:\n",
    "        pivot_idx = r/2\n",
    "    else:\n",
    "        pivot_idx = r\n",
    "        \n",
    "    ls[l], ls[pivot_idx] = ls[pivot_idx], ls[l]\n",
    "    \n",
    "    #two-sided partition\n",
    "    i = l\n",
    "    j = r + 1\n",
    "    while 1:\n",
    "        \n",
    "        i += 1\n",
    "        while i <= r and ls[i] < pivot:\n",
    "            i += 1\n",
    "            \n",
    "        j -= 1\n",
    "        while ls[j] > pivot:\n",
    "            j -= 1\n",
    "            \n",
    "        if i > j:\n",
    "            break\n",
    "        \n",
    "        ls[i], ls[j] = ls[j], ls[i]\n",
    "    ls[l], ls[j] = ls[j], ls[l]\n",
    "#     print l, j-1\n",
    "    quick_sort3(ls, l, j-1)\n",
    "    quick_sort3(ls, j+1, r)"
   ]
  },
  {
   "cell_type": "code",
   "execution_count": 18,
   "metadata": {
    "collapsed": false
   },
   "outputs": [],
   "source": [
    "def quick_sort4(ls, l, r, cutoff=12):\n",
    "    _quick_sort4(ls, l, r, cutoff)\n",
    "    insertion_sort3(ls)\n",
    "\n",
    "\n",
    "def _quick_sort4(ls, l, r, cutoff):\n",
    "    if r - l < cutoff:\n",
    "        return \n",
    "    #select the pivot\n",
    "    pivot = median_of_three(ls[l], ls[r/2], ls[r]) #use the midean as pivot  \n",
    "    if pivot == ls[l]:\n",
    "        pivot_idx = l\n",
    "    elif pivot == ls[r/2]:\n",
    "        pivot_idx = r/2\n",
    "    else:\n",
    "        pivot_idx = r\n",
    "        \n",
    "    ls[l], ls[pivot_idx] = ls[pivot_idx], ls[l]\n",
    "\n",
    "#################\n",
    " #   pivot = ls[l]\n",
    "#################\n",
    "    #two-sided partition\n",
    "    i = l\n",
    "    j = r + 1\n",
    "    while 1:\n",
    "        \n",
    "        i += 1\n",
    "        while i <= r and ls[i] < pivot:\n",
    "            i += 1\n",
    "            \n",
    "        j -= 1\n",
    "        while ls[j] > pivot:\n",
    "            j -= 1\n",
    "            \n",
    "        if i > j:\n",
    "            break\n",
    "        \n",
    "        ls[i], ls[j] = ls[j], ls[i]\n",
    "    ls[l], ls[j] = ls[j], ls[l]\n",
    "#     print l, j-1\n",
    "    _quick_sort4(ls, l, j-1, cutoff)\n",
    "    _quick_sort4(ls, j+1, r, cutoff)\n",
    "\n",
    "    \n",
    "def random_array(num = 20000):\n",
    "    arr = []\n",
    "    import random\n",
    "    for i in range(num):\n",
    "        arr.append(random.randrange(-num, num))\n",
    "    return arr\n",
    "\n",
    "# #a = [2, 4, 1, 3, 0 ,7, 9 ,4, 5, 20, 11, 2, 7, -1]\n",
    "# a = random_array()\n",
    "# %timeit quick_sort4(a[:], 0, len(a)-1, 12)"
   ]
  },
  {
   "cell_type": "markdown",
   "metadata": {},
   "source": [
    "## This 3-way quick sort is from Sedgewick's *Algorithm* (Page 299)"
   ]
  },
  {
   "cell_type": "code",
   "execution_count": 17,
   "metadata": {
    "collapsed": false
   },
   "outputs": [
    {
     "name": "stdout",
     "output_type": "stream",
     "text": [
      "[-1, 1, 2, 3, 3, 4, 5, 8, 9]\n"
     ]
    }
   ],
   "source": [
    "#There are many equal items in real application, \n",
    "#if we partition the array into three parts, then we can achieve significant improvement \n",
    "#But if there are no so many identical items, it will be slower than 2-way quick sort...\n",
    "#(There is another improvement-- Sedgewick Problem 2.3.22: Fast 3-way partitioning)\n",
    "def quick_sort_3way(ls, l, r):\n",
    "    #l: start point\n",
    "    #u: end point (inclusive)\n",
    "    if l >= r:\n",
    "        return\n",
    "    \n",
    "    #select the pivot\n",
    "    pivot = median_of_three(ls[l], ls[r/2], ls[r]) #use the midean as pivot  \n",
    "    if pivot == ls[l]:\n",
    "        pivot_idx = l\n",
    "    elif pivot == ls[r/2]:\n",
    "        pivot_idx = r/2\n",
    "    else:\n",
    "        pivot_idx = r\n",
    "        \n",
    "    ls[l], ls[pivot_idx] = ls[pivot_idx], ls[l]\n",
    "    \n",
    "\n",
    "    lt = l\n",
    "    gt = r\n",
    "    i = l + 1\n",
    "    #[l, ..., lt-1](inclusive) < pivot and [lt, ..., gt] = pivot and [gt+1, ..., r] > pivot\n",
    "    while i <= gt:\n",
    "        if ls[i] < pivot:\n",
    "            ls[i], ls[lt] = ls[lt], ls[i]\n",
    "            lt += 1\n",
    "            i += 1\n",
    "        elif ls[i] > pivot:\n",
    "            ls[gt], ls[i] = ls[i], ls[gt]\n",
    "            gt -= 1\n",
    "        else:\n",
    "            i += 1\n",
    "    \n",
    "#     print l, j-1\n",
    "    quick_sort_3way(ls, l, lt - 1)\n",
    "    quick_sort_3way(ls, gt + 1, r)\n",
    "\n",
    "\n",
    "    \n",
    "array = [3, 1, 4, 2, -1, 5, 8 ,3, 9]\n",
    "quick_sort_3way(array, 0, len(array)-1)\n",
    "print array\n",
    "\n",
    "\n",
    "# def random_array(num = 10000):\n",
    "#     arr = []\n",
    "#     import random\n",
    "#     for i in range(num):\n",
    "#         arr.append(random.randrange(-num, num))\n",
    "#     return arr\n",
    "\n",
    "# array = random_array()\n",
    "# array = [6] * 800\n",
    "# %timeit quick_sort1(array[:], 0, len(array)-1)\n",
    "# %timeit quick_sort3(array[:], 0, len(array)-1)\n",
    "    \n",
    "    "
   ]
  },
  {
   "cell_type": "code",
   "execution_count": 28,
   "metadata": {
    "collapsed": false
   },
   "outputs": [
    {
     "name": "stdout",
     "output_type": "stream",
     "text": [
      "bubble_sort\n",
      "1 loops, best of 3: 10.1 s per loop\n",
      "insertion_sort1\n",
      "1 loops, best of 3: 7.16 s per loop\n",
      "insertion_sort3\n",
      "1 loops, best of 3: 4.77 s per loop\n",
      "merge_sort\n",
      "100 loops, best of 3: 9.58 ms per loop\n",
      "quick_sort1\n",
      "10 loops, best of 3: 33.7 ms per loop\n",
      "quick_sort3\n",
      "10 loops, best of 3: 30.9 ms per loop\n",
      "quick_sort4\n",
      "10 loops, best of 3: 25.7 ms per loop\n",
      "quick_sort_3way\n",
      "10 loops, best of 3: 48.6 ms per loop\n",
      "------------------Python bulit-in sort-------------------\n",
      "list.sort()\n",
      "100 loops, best of 3: 3.5 ms per loop\n",
      "sorted(list)\n",
      "100 loops, best of 3: 3.61 ms per loop\n"
     ]
    }
   ],
   "source": [
    "def random_array(num = 10000):\n",
    "    arr = []\n",
    "    import random\n",
    "    for i in range(num):\n",
    "        arr.append(random.randrange(-num, num))\n",
    "    return arr\n",
    "\n",
    "#a = [2, 4, 1, 3, 0 ,7, 9 ,4, 5, 20, 11, 2, 7, -1]\n",
    "a = random_array()\n",
    "print 'bubble_sort'\n",
    "%timeit bubble_sort(a[:])\n",
    "\n",
    "print 'insertion_sort1'\n",
    "%timeit insertion_sort1(a[:])\n",
    "\n",
    "print 'insertion_sort3'\n",
    "%timeit insertion_sort3(a[:])\n",
    "\n",
    "print 'merge_sort'\n",
    "%timeit e = merge_sort(a[:])\n",
    "\n",
    "print 'quick_sort1'\n",
    "%timeit quick_sort1(a[:], 0, len(a)-1)\n",
    "\n",
    "print 'quick_sort3'\n",
    "%timeit quick_sort3(a[:], 0, len(a)-1)\n",
    "\n",
    "print 'quick_sort4'\n",
    "%timeit quick_sort4(a[:], 0, len(a)-1)\n",
    "\n",
    "print 'quick_sort_3way'\n",
    "%timeit quick_sort_3way(a[:], 0, len(a)-1)\n",
    "\n",
    "#Python bulit-in sort\n",
    "print '------------------Python bulit-in sort-------------------'\n",
    "\n",
    "print 'list.sort()'\n",
    "%timeit a[:].sort()\n",
    "\n",
    "print 'sorted(list)'\n",
    "%timeit sorted(a[:])\n"
   ]
  },
  {
   "cell_type": "code",
   "execution_count": null,
   "metadata": {
    "collapsed": true
   },
   "outputs": [],
   "source": []
  }
 ],
 "metadata": {
  "kernelspec": {
   "display_name": "Python 2",
   "language": "python",
   "name": "python2"
  },
  "language_info": {
   "codemirror_mode": {
    "name": "ipython",
    "version": 2
   },
   "file_extension": ".py",
   "mimetype": "text/x-python",
   "name": "python",
   "nbconvert_exporter": "python",
   "pygments_lexer": "ipython2",
   "version": "2.7.11"
  }
 },
 "nbformat": 4,
 "nbformat_minor": 0
}
