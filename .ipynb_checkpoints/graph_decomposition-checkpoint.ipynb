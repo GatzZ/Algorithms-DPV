{
 "cells": [
  {
   "cell_type": "code",
   "execution_count": 1,
   "metadata": {
    "collapsed": false
   },
   "outputs": [],
   "source": [
    "import graph\n",
    "reload(graph)\n",
    "from graph import *"
   ]
  },
  {
   "cell_type": "code",
   "execution_count": 25,
   "metadata": {
    "collapsed": false
   },
   "outputs": [
    {
     "name": "stdout",
     "output_type": "stream",
     "text": [
      "A component: 1\n",
      "A pervisit clock: 1\n",
      "B component: 1\n",
      "B pervisit clock: 2\n",
      "B postvisit clock: 3\n",
      "E component: 1\n",
      "E pervisit clock: 4\n",
      "I component: 1\n",
      "I pervisit clock: 5\n",
      "J component: 1\n",
      "J pervisit clock: 6\n",
      "J postvisit clock: 7\n",
      "I postvisit clock: 8\n",
      "E postvisit clock: 9\n",
      "A postvisit clock: 10\n",
      "C component: 2\n",
      "C pervisit clock: 11\n",
      "D component: 2\n",
      "D pervisit clock: 12\n",
      "H component: 2\n",
      "H pervisit clock: 13\n",
      "L component: 2\n",
      "L pervisit clock: 14\n",
      "L postvisit clock: 15\n",
      "H postvisit clock: 16\n",
      "D postvisit clock: 17\n",
      "G component: 2\n",
      "G pervisit clock: 18\n",
      "K component: 2\n",
      "K pervisit clock: 19\n",
      "K postvisit clock: 20\n",
      "G postvisit clock: 21\n",
      "C postvisit clock: 22\n",
      "F component: 3\n",
      "F pervisit clock: 23\n",
      "F postvisit clock: 24\n"
     ]
    }
   ],
   "source": [
    "#bigraph = load_digraph('bigraph_dpv3-2')\n",
    "bigraph = load_digraph('bigraph_dpv3-6')\n",
    "\n",
    "def DFS(g):\n",
    "    def previsit(node):\n",
    "        #import pdb; pdb.set_trace()\n",
    "        print node, 'component:', component\n",
    "        ccnum[node] = component\n",
    "        global clock\n",
    "        print node, 'pervisit clock:', clock\n",
    "        pre[node] = clock\n",
    "        #引用在赋值之前，Python3有个关键字nonlocal可以解决这个问题，但在Python2中还是不要尝试修改闭包中的变量 （clock）。\n",
    "        clock += 1 #如果有重新赋值，python就认为clock是个内部变量。。。\n",
    "        \n",
    "    def postvisit(node):\n",
    "        global clock\n",
    "        print node, 'postvisit clock:', clock\n",
    "        post[node] = clock\n",
    "        clock += 1\n",
    "    \n",
    "    def explore(node):\n",
    "        visited[node] = True\n",
    "        previsit(node)\n",
    "        for u in g.edges[node]:\n",
    "            if not visited[u]:\n",
    "                explore(u)\n",
    "        postvisit(node)\n",
    "    \n",
    "    #import pdb; pdb.set_trace()\n",
    "    visited = {}\n",
    "    ccnum = {} #record the components. it is easily achieved in Undirected graph\n",
    "    pre = {}\n",
    "    post = {}\n",
    "    global clock\n",
    "    clock = 1\n",
    "    component = 0\n",
    "    \n",
    "    for node in g.nodes:\n",
    "        visited[node] = False\n",
    "        \n",
    "    for node in g.nodes:\n",
    "        if not visited[node]:\n",
    "            component += 1 #Just ecord the components in outer loop of DFS\n",
    "            explore(node)\n",
    "    \n",
    "DFS(bigraph)"
   ]
  },
  {
   "cell_type": "code",
   "execution_count": 20,
   "metadata": {
    "collapsed": false
   },
   "outputs": [
    {
     "name": "stdout",
     "output_type": "stream",
     "text": [
      "A pervisit clock: 1\n",
      "B pervisit clock: 2\n",
      "B postvisit clock: 3\n",
      "E pervisit clock: 4\n",
      "I pervisit clock: 5\n",
      "J pervisit clock: 6\n",
      "J postvisit clock: 7\n",
      "I postvisit clock: 8\n",
      "E postvisit clock: 9\n",
      "A postvisit clock: 10\n",
      "C pervisit clock: 11\n",
      "D pervisit clock: 12\n",
      "H pervisit clock: 13\n",
      "L pervisit clock: 14\n",
      "L postvisit clock: 15\n",
      "H postvisit clock: 16\n",
      "D postvisit clock: 17\n",
      "G pervisit clock: 18\n",
      "K pervisit clock: 19\n",
      "K postvisit clock: 20\n",
      "G postvisit clock: 21\n",
      "C postvisit clock: 22\n",
      "F pervisit clock: 23\n",
      "F postvisit clock: 24\n"
     ]
    }
   ],
   "source": [
    "def DFS(g):\n",
    "    def previsit(node):\n",
    "        #import pdb; pdb.set_trace()\n",
    "        #print node, 'component:', component\n",
    "        ccnum[node] = component\n",
    "        global clock\n",
    "        print node, 'pervisit clock:', clock\n",
    "        pre[node] = clock\n",
    "        #引用在赋值之前，Python3有个关键字nonlocal可以解决这个问题，但在Python2中还是不要尝试修改闭包中的变量 （clock）。\n",
    "        clock += 1 #如果有重新赋值，python就认为clock是个内部变量。。。\n",
    "        \n",
    "    def postvisit(node):\n",
    "        global clock\n",
    "        print node, 'postvisit clock:', clock\n",
    "        post[node] = clock\n",
    "        clock += 1\n",
    "    \n",
    "    def explore(node):\n",
    "        visited[node] = True\n",
    "        previsit(node)\n",
    "        for u in g.edges[node]:\n",
    "            if not visited[u]:\n",
    "                explore(u)\n",
    "        postvisit(node)\n",
    "    \n",
    "    #import pdb; pdb.set_trace()\n",
    "    visited = {}\n",
    "    ccnum = {}\n",
    "    pre = {}\n",
    "    post = {}\n",
    "    global clock\n",
    "    clock = 1\n",
    "    component = 0\n",
    "    \n",
    "    for node in g.nodes:\n",
    "        visited[node] = False\n",
    "        \n",
    "    for node in g.nodes:\n",
    "        if not visited[node]:\n",
    "            component += 1\n",
    "            explore(node)\n",
    "\n",
    "digraph = load_digraph('digraph_dpv3-7')\n",
    "DFS(digraph)"
   ]
  },
  {
   "cell_type": "code",
   "execution_count": null,
   "metadata": {
    "collapsed": true
   },
   "outputs": [],
   "source": []
  }
 ],
 "metadata": {
  "kernelspec": {
   "display_name": "Python 2",
   "language": "python",
   "name": "python2"
  },
  "language_info": {
   "codemirror_mode": {
    "name": "ipython",
    "version": 2
   },
   "file_extension": ".py",
   "mimetype": "text/x-python",
   "name": "python",
   "nbconvert_exporter": "python",
   "pygments_lexer": "ipython2",
   "version": "2.7.11"
  }
 },
 "nbformat": 4,
 "nbformat_minor": 0
}
