{
 "cells": [
  {
   "cell_type": "code",
   "execution_count": 31,
   "metadata": {},
   "outputs": [],
   "source": [
    "import graph\n",
    "reload(graph)\n",
    "from graph import *"
   ]
  },
  {
   "cell_type": "code",
   "execution_count": 15,
   "metadata": {},
   "outputs": [
    {
     "name": "stdout",
     "output_type": "stream",
     "text": [
      "A component: 1\nA pervisit _clock: 1\nB component: 1\nB pervisit _clock: 2\nB postvisit _clock: 3\nE component: 1\nE pervisit _clock: 4\nI component: 1\nI pervisit _clock: 5\nJ component: 1\nJ pervisit _clock: 6\nJ postvisit _clock: 7\nI postvisit _clock: 8\nE postvisit _clock: 9\nA postvisit _clock: 10\nC component: 2\nC pervisit _clock: 11\nD component: 2\nD pervisit _clock: 12\nH component: 2\nH pervisit _clock: 13\nL component: 2\nL pervisit _clock: 14\nL postvisit _clock: 15\nH postvisit _clock: 16\nD postvisit _clock: 17\nG component: 2\nG pervisit _clock: 18\nK component: 2\nK pervisit _clock: 19\nK postvisit _clock: 20\nG postvisit _clock: 21\nC postvisit _clock: 22\nF component: 3\nF pervisit _clock: 23\nF postvisit _clock: 24\n"
     ]
    }
   ],
   "source": [
    "def DFS(g):\n",
    "    def previsit(node):\n",
    "        #import pdb; pdb.set_trace()\n",
    "        print node, 'component:', component\n",
    "        ccnum[node] = component\n",
    "        global _clock\n",
    "        print node, 'pervisit _clock:', _clock\n",
    "        pre[node] = _clock\n",
    "        #引用在赋值之前，Python3有个关键字nonlocal可以解决这个问题，但在Python2中还是不要尝试修改闭包中的变量 （_clock）。\n",
    "        _clock += 1 #如果有重新赋值，python就认为__clock是个内部变量,而不是外部变量。所以我们用全局变量来定义_clock\n",
    "        \n",
    "    def postvisit(node):\n",
    "        global _clock\n",
    "        print node, 'postvisit _clock:', _clock\n",
    "        post[node] = _clock\n",
    "        _clock += 1\n",
    "    \n",
    "    def explore(node):\n",
    "        visited[node] = True\n",
    "        previsit(node)\n",
    "        for u in g.edges[node]:\n",
    "            if not visited[u]:\n",
    "                explore(u)\n",
    "        postvisit(node)\n",
    "    \n",
    "    #import pdb; pdb.set_trace()\n",
    "    visited = {}\n",
    "    ccnum = {} #record the components. it is easily achieved in Undirected graph\n",
    "    pre = {}\n",
    "    post = {}\n",
    "    global _clock\n",
    "    _clock = 1\n",
    "    component = 0\n",
    "    \n",
    "    for node in g.nodes:\n",
    "        visited[node] = False\n",
    "        \n",
    "    for node in g.nodes:\n",
    "        if not visited[node]:\n",
    "            component += 1 #Just ecord the components in outer loop of DFS\n",
    "            explore(node)\n",
    "    return pre, post, ccnum\n",
    "\n",
    "#bigraph = load_digraph('bigraph_dpv3-2')\n",
    "bigraph = load_digraph('bigraph_dpv3-6')\n",
    "pre, post, ccnum = DFS(bigraph)"
   ]
  },
  {
   "cell_type": "code",
   "execution_count": 14,
   "metadata": {},
   "outputs": [
    {
     "name": "stdout",
     "output_type": "stream",
     "text": [
      "A pervisit _clock: 1\nB pervisit _clock: 2\nE pervisit _clock: 3\nF pervisit _clock: 4\nG pervisit _clock: 5\nG postvisit _clock: 6\nF postvisit _clock: 7\nH pervisit _clock: 8\nH postvisit _clock: 9\nE postvisit _clock: 10\nB postvisit _clock: 11\nC pervisit _clock: 12\nD pervisit _clock: 13\nD postvisit _clock: 14\nC postvisit _clock: 15\nA postvisit _clock: 16\n"
     ]
    }
   ],
   "source": [
    "def DFS(g):\n",
    "    def previsit(node):\n",
    "        #import pdb; pdb.set_trace()\n",
    "        #print node, 'component:', component\n",
    "        ccnum[node] = component\n",
    "        global _clock\n",
    "        print node, 'pervisit _clock:', _clock\n",
    "        pre[node] = _clock\n",
    "        #引用在赋值之前，Python3有个关键字nonlocal可以解决这个问题，但在Python2中还是不要尝试修改闭包中的变量 （_clock）。\n",
    "        _clock += 1 #如果有重新赋值，python就认为_clock是个内部变量,而不是外部变量。所以我们用全局变量来定义_clock\n",
    "        \n",
    "    def postvisit(node):\n",
    "        global _clock\n",
    "        print node, 'postvisit _clock:', _clock\n",
    "        post[node] = _clock\n",
    "        _clock += 1\n",
    "    \n",
    "    def explore(node):\n",
    "        visited[node] = True\n",
    "        previsit(node)\n",
    "        for u in g.edges[node]:\n",
    "            if not visited[u]:\n",
    "                explore(u)\n",
    "        postvisit(node)\n",
    "    \n",
    "    #import pdb; pdb.set_trace()\n",
    "    visited = {}\n",
    "    ccnum = {}\n",
    "    pre = {}\n",
    "    post = {}\n",
    "    global _clock\n",
    "    _clock = 1\n",
    "    component = 0\n",
    "    \n",
    "    for node in g.nodes:\n",
    "        visited[node] = False\n",
    "        \n",
    "    for node in g.nodes:\n",
    "        if not visited[node]:\n",
    "            component += 1\n",
    "            explore(node)\n",
    "    \n",
    "    return pre, post, ccnum\n",
    "\n",
    "digraph = load_digraph('digraph_dpv3-7')\n",
    "pre, post, _ = DFS(digraph)"
   ]
  },
  {
   "cell_type": "code",
   "execution_count": 22,
   "metadata": {},
   "outputs": [
    {
     "name": "stdout",
     "output_type": "stream",
     "text": [
      "B\nD\nA\nC\nF\nE\n"
     ]
    }
   ],
   "source": [
    "def DFS(g):\n",
    "    def previsit(node):\n",
    "        ccnum[node] = component\n",
    "        global _clock\n",
    "        pre[node] = _clock\n",
    "        #引用在赋值之前，Python3有个关键字nonlocal可以解决这个问题，但在Python2中还是不要尝试修改闭包中的变量 （_clock）。\n",
    "        _clock += 1 #如果有重新赋值，python就认为_clock是个内部变量,而不是外部变量。所以我们用全局变量来定义_clock\n",
    "        \n",
    "    def postvisit(node):\n",
    "        global _clock\n",
    "        post[node] = _clock\n",
    "        _clock += 1\n",
    "    \n",
    "    def explore(node):\n",
    "        visited[node] = True\n",
    "        previsit(node)\n",
    "        for u in g.edges[node]:\n",
    "            if not visited[u]:\n",
    "                explore(u)\n",
    "        postvisit(node)\n",
    "    \n",
    "    visited = {}\n",
    "    ccnum = {}\n",
    "    pre = {}\n",
    "    post = {}\n",
    "    global _clock\n",
    "    _clock = 1\n",
    "    component = 0\n",
    "    for node in g.nodes:\n",
    "        visited[node] = False      \n",
    "    for node in g.nodes:\n",
    "        if not visited[node]:\n",
    "            component += 1\n",
    "            explore(node)\n",
    "    return pre, post, ccnum\n",
    "\n",
    "def topological_sort(dag):\n",
    "    _, post, _  = DFS(dag)\n",
    "    return sorted(post, key=post.__getitem__, reverse=True) #a sorted list of keys\n",
    "\n",
    "dag = load_digraph('digraph_dpv3-8')\n",
    "sorted_nodes = topological_sort(dag)\n",
    "for node in sorted_nodes:\n",
    "    print node"
   ]
  },
  {
   "cell_type": "code",
   "execution_count": 48,
   "metadata": {},
   "outputs": [
    {
     "name": "stdout",
     "output_type": "stream",
     "text": [
      "A component: 5\nC component: 3\nB component: 4\nE component: 4\nD component: 2\nG component: 1\nF component: 3\nI component: 1\nH component: 1\nK component: 1\nJ component: 1\nL component: 1\n"
     ]
    }
   ],
   "source": [
    "def find_digraph_component(g):\n",
    "    _, post, _ = DFS(g.reverse())\n",
    "    rev_post_nodes = sorted(post, key=post.__getitem__, reverse=True)\n",
    "    g.nodes = rev_post_nodes\n",
    " \n",
    "    _, _, ccnum = DFS(g)\n",
    "    return ccnum\n",
    "\n",
    "digraph = load_digraph('digraph_dpv3-9')\n",
    "# print  digraph\n",
    "ccnum = find_digraph_component(digraph)\n",
    "for node in ccnum:\n",
    "    print node, 'component:', ccnum[node]"
   ]
  },
  {
   "cell_type": "code",
   "execution_count": null,
   "metadata": {},
   "outputs": [],
   "source": [
    ""
   ]
  }
 ],
 "metadata": {
  "kernelspec": {
   "display_name": "Python 2",
   "language": "python",
   "name": "python2"
  },
  "language_info": {
   "codemirror_mode": {
    "name": "ipython",
    "version": 2.0
   },
   "file_extension": ".py",
   "mimetype": "text/x-python",
   "name": "python",
   "nbconvert_exporter": "python",
   "pygments_lexer": "ipython2",
   "version": "2.7.11"
  }
 },
 "nbformat": 4,
 "nbformat_minor": 0
}