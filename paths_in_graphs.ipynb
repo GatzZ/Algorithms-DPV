{
 "cells": [
  {
   "cell_type": "markdown",
   "metadata": {},
   "source": [
    "# Chapter 4 Paths in Graphs"
   ]
  },
  {
   "cell_type": "code",
   "execution_count": 1,
   "metadata": {},
   "outputs": [],
   "source": [
    "import graph\n",
    "from graph import *\n",
    "reload(graph)\n",
    "INF = float('inf')"
   ]
  },
  {
   "cell_type": "code",
   "execution_count": 2,
   "metadata": {},
   "outputs": [
    {
     "name": "stdout",
     "output_type": "stream",
     "text": [
      "A 1\nC 1\nB 2\nE 1\nD 1\nS 0\n"
     ]
    }
   ],
   "source": [
    "#Breadth-first Search\n",
    "def BFS(g):\n",
    "    dist = {node: INF for node in g.nodes}\n",
    "    \n",
    "    #get where to start\n",
    "    for node in g.nodes:\n",
    "        if str(node) == 'S':\n",
    "            start = node\n",
    "            break\n",
    "            \n",
    "    queue = [start]\n",
    "    dist[start] = 0\n",
    "    while queue:\n",
    "        curr_node = queue.pop(0)\n",
    "        for neighbor in g.edges[curr_node]:\n",
    "            if dist[neighbor] == INF: #not visited yet\n",
    "                queue.append(neighbor)\n",
    "                dist[neighbor] = dist[curr_node] + 1\n",
    "                \n",
    "    return dist\n",
    "        \n",
    "\n",
    "bigraph = load_bigraph('data/bigraph_dpv4-1')\n",
    "distance = BFS(bigraph)\n",
    "for node in distance:\n",
    "    print node, distance[node]"
   ]
  },
  {
   "cell_type": "code",
   "execution_count": 5,
   "metadata": {},
   "outputs": [],
   "source": [
    "def rebulid_path(prev, start_node, dest_node):\n",
    "    path = [dest_node]\n",
    "    while prev[dest_node] != start_node:\n",
    "        path.append(prev[dest_node])\n",
    "        dest_node = prev[dest_node]\n",
    "    path.append(start_node)\n",
    "    path.reverse()\n",
    "    return path"
   ]
  },
  {
   "cell_type": "code",
   "execution_count": 3,
   "metadata": {},
   "outputs": [
    {
     "name": "stdout",
     "output_type": "stream",
     "text": [
      "----------------------------------------------\nThe path from A to E\nA\nC\nE\n"
     ]
    }
   ],
   "source": [
    "def dijkstra(weighted_graph, start):\n",
    "    dist = {node: INF for node in weighted_graph.nodes}\n",
    "    prev = {node: None for node in weighted_graph.nodes}\n",
    "    dist[start] = 0\n",
    "    import heapq\n",
    "    min_heap = [(dist[node], node) for node in weighted_graph.nodes]\n",
    "    heapq.heapify(min_heap)\n",
    "    while min_heap:\n",
    "        src = heapq.heappop(min_heap)[1]\n",
    "        for dest, distance in weighted_graph.edges[src]:\n",
    "            if dist[dest] > dist[src] + distance:\n",
    "                min_heap.remove((dist[dest], dest))  #remove the obsolete one\n",
    "                dist[dest] = dist[src] + distance\n",
    "                heapq.heappush(min_heap, (dist[dest], dest)) #add the new one\n",
    "                prev[dest] = src\n",
    "                # for node in dist:\n",
    "                #     print node, dist[node]\n",
    "                # print '----------------------------------'\n",
    "    return dist, prev\n",
    "\n",
    "weighted_digrah = load_weighted_graph('data/digraph_dpv4-9')\n",
    "dist, prev = dijkstra(weighted_digrah, weighted_digrah['A'])\n",
    "mypath = rebulid_path(prev, weighted_digrah['A'], weighted_digrah['E'])\n",
    "print '----------------------------------------------'\n",
    "print 'The path from {0} to {1}'.format(weighted_digrah['A'], weighted_digrah['E'])\n",
    "for node in mypath:\n",
    "    print node\n",
    "\n",
    "# for node in dist:\n",
    "#     print node, dist[node]"
   ]
  },
  {
   "cell_type": "code",
   "execution_count": 7,
   "metadata": {},
   "outputs": [
    {
     "name": "stdout",
     "output_type": "stream",
     "text": [
      "iteration 1\nA inf\nC inf\nB inf\nE inf\nD inf\nG 8.0\nF inf\nS 0\n----------------------------------\niteration 2\nA 5.0\nC inf\nB inf\nE 8.0\nD inf\nG 8.0\nF 9.0\nS 0\n----------------------------------\niteration 3\nA 5.0\nC inf\nB 5.0\nE 7.0\nD inf\nG 8.0\nF 9.0\nS 0\n----------------------------------\niteration 4\nA 5.0\nC 6.0\nB 5.0\nE 7.0\nD inf\nG 8.0\nF 9.0\nS 0\n----------------------------------\niteration 5\nA 5.0\nC 6.0\nB 5.0\nE 7.0\nD 9.0\nG 8.0\nF 9.0\nS 0\n----------------------------------\niteration 6\nA 5.0\nC 6.0\nB 5.0\nE 7.0\nD 9.0\nG 8.0\nF 9.0\nS 0\n----------------------------------\n----------------------------------------------\nThe path from S to E\nS\nG\nF\nA\nE\n"
     ]
    }
   ],
   "source": [
    "#Can handle negative edge, but it is of O(m * n)\n",
    "def bellman_ford(weighted_digrah, start):\n",
    "    dist = {node: INF for node in weighted_digrah.nodes}\n",
    "    prev = {node: None for node in weighted_digrah.nodes}\n",
    "    dist[start] = 0\n",
    "    count = 0\n",
    "    max_time = len(dist)\n",
    "    updated = True\n",
    "    while updated:\n",
    "        count += 1\n",
    "        if count > max_time:\n",
    "            raise ValueError('There is a negative cycle in the graph')\n",
    "        print 'iteration',count\n",
    "        updated = False\n",
    "        for src in weighted_digrah.nodes:\n",
    "            for dest, distance in weighted_digrah.edges[src]:\n",
    "                if dist[dest] > dist[src] + distance:\n",
    "                    dist[dest] = dist[src] + distance\n",
    "                    prev[dest] = src\n",
    "                    updated = True\n",
    "        for node in dist:\n",
    "            print node, dist[node]\n",
    "        print '----------------------------------'\n",
    "    return dist, prev\n",
    "\n",
    "weighted_digrah = load_weighted_graph('data/digraph_dpv4-14')\n",
    "# weighted_digrah = load_weighted_graph('data/digraph_dpv4-14_negative_cycle')\n",
    "dist, prev = bellman_ford(weighted_digrah, weighted_digrah['S'])\n",
    "mypath = rebulid_path(prev, weighted_digrah['S'], weighted_digrah['E'])\n",
    "print '----------------------------------------------'\n",
    "print 'The path from {0} to {1}'.format(weighted_digrah['S'], weighted_digrah['E'])\n",
    "for node in mypath:\n",
    "    print node"
   ]
  },
  {
   "cell_type": "markdown",
   "metadata": {},
   "source": [
    "## Exercise Chapter 4"
   ]
  },
  {
   "cell_type": "code",
   "execution_count": null,
   "metadata": {},
   "outputs": [],
   "source": [
    ""
   ]
  }
 ],
 "metadata": {},
 "nbformat": 4,
 "nbformat_minor": 0
}