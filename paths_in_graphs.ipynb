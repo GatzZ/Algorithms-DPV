{
 "cells": [
  {
   "cell_type": "markdown",
   "metadata": {},
   "source": [
    "# Chapter 4 Paths in Graphs.ipynb"
   ]
  },
  {
   "cell_type": "code",
   "execution_count": 14,
   "metadata": {},
   "outputs": [],
   "source": [
    "from graph import *\n",
    "reload(graph)\n",
    "INF = float('inf')"
   ]
  },
  {
   "cell_type": "code",
   "execution_count": 8,
   "metadata": {},
   "outputs": [
    {
     "name": "stdout",
     "output_type": "stream",
     "text": [
      "A 1\nC 1\nB 2\nE 1\nD 1\nS 0\n"
     ]
    }
   ],
   "source": [
    "#Breadth-first Search\n",
    "def BFS(g):\n",
    "    dist = {node: INF for node in g.nodes}\n",
    "    \n",
    "    #get where to start\n",
    "    for node in g.nodes:\n",
    "        if str(node) == 'S':\n",
    "            start = node\n",
    "            break\n",
    "            \n",
    "    queue = [start]\n",
    "    dist[start] = 0\n",
    "    while queue:\n",
    "        curr_node = queue.pop(0)\n",
    "        for neighbor in g.edges[curr_node]:\n",
    "            if dist[neighbor] == INF: #not visited yet\n",
    "                queue.append(neighbor)\n",
    "                dist[neighbor] = dist[curr_node] + 1\n",
    "                \n",
    "    return dist\n",
    "        \n",
    "\n",
    "bigraph = load_bigraph('data/bigraph_dpv4-1')\n",
    "distance = BFS(bigraph)\n",
    "for node in distance:\n",
    "    print node, distance[node]"
   ]
  },
  {
   "cell_type": "code",
   "execution_count": 13,
   "metadata": {},
   "outputs": [],
   "source": [
    "def dijkstra(weighted_graph, start):\n",
    "    dist = {node: INF for node in weighted_graph.nodes}\n",
    "    prev = {node: None for node in weighted_graph.nodes}\n",
    "    dist[start] = 0\n",
    "    import heapq\n",
    "    min_heap = heapq.heapify([(dist[node], node) for node in weighted_graph.nodes])\n",
    "    while min_heap:\n",
    "        src = heappop(min_heap)\n",
    "        for edge in weighted_graph.edges[u]:\n",
    "            dest = edge.get_destination()\n",
    "            if dist[dest] > dist[src] + edge.get_distance():\n",
    "                min_heap.remove((dist[dest], dest))  #remove the obsolete one\n",
    "                dist[dest] = dist[src] + edge.get_distance()\n",
    "                heapq.heappush(min_heap, (dist[dest], dest)) #add the new one\n",
    "                prev[src] = dest\n",
    "\n",
    "weighted_digrah = load_weighted_graph()"
   ]
  },
  {
   "cell_type": "code",
   "execution_count": 12,
   "metadata": {},
   "outputs": [
    {
     "data": {
      "text/plain": [
       "[1, 2, 3, 4]"
      ]
     },
     "execution_count": 12,
     "output_type": "execute_result",
     "metadata": {}
    }
   ],
   "source": [
    "import heapq\n",
    "h = [2, 1, 3, 4]\n",
    "heapq.heapify(h)\n",
    "h"
   ]
  },
  {
   "cell_type": "code",
   "execution_count": null,
   "metadata": {},
   "outputs": [],
   "source": [
    ""
   ]
  }
 ],
 "metadata": {},
 "nbformat": 4,
 "nbformat_minor": 0
}