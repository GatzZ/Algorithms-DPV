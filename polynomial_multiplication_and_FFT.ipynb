{
 "cells": [
  {
   "cell_type": "markdown",
   "metadata": {},
   "source": [
    "# Naive polynomial multiplication"
   ]
  },
  {
   "cell_type": "code",
   "execution_count": 143,
   "metadata": {
    "collapsed": true
   },
   "outputs": [],
   "source": [
    "def polynomial_multiplication1(A, B):\n",
    "    degree_a = len(A)\n",
    "    degree_b = len(B)\n",
    "    degree_c = len(A) + len(B) - 1\n",
    "    A += [0] * (degree_c - degree_a)\n",
    "    B += [0] * (degree_c - degree_b)\n",
    "    C = [0] * degree_c\n",
    "    for i in range(degree_c):\n",
    "        for j in range(i+1):\n",
    "            C[i] += A[j] * B[i-j]\n",
    "    return C"
   ]
  },
  {
   "cell_type": "code",
   "execution_count": 144,
   "metadata": {
    "collapsed": true
   },
   "outputs": [],
   "source": [
    "def polynomial_multiplication2(A, B):\n",
    "    degree_a = len(A)\n",
    "    degree_b = len(B)\n",
    "    degree_c = len(A) + len(B) - 1\n",
    "    C = [0] * degree_c\n",
    "    for i in range(degree_a):\n",
    "        for j in range(degree_b):\n",
    "            C[i+j] += A[i] * B[j]\n",
    "    return C"
   ]
  },
  {
   "cell_type": "code",
   "execution_count": 145,
   "metadata": {
    "collapsed": false
   },
   "outputs": [
    {
     "data": {
      "text/plain": [
       "[-45, 86, -75, -20, 44, -14, -12]"
      ]
     },
     "execution_count": 145,
     "metadata": {},
     "output_type": "execute_result"
    }
   ],
   "source": [
    "A = [9, -10, 7, 6]\n",
    "B = [-5, 4, 0, -2]\n",
    "polynomial_multiplication1(A[:], B[:])\n",
    "polynomial_multiplication2(A[:], B[:])\n"
   ]
  },
  {
   "cell_type": "code",
   "execution_count": 30,
   "metadata": {
    "collapsed": false
   },
   "outputs": [],
   "source": [
    "def num_to_rev_list(num):\n",
    "    ls = []\n",
    "    while num != 0:\n",
    "        ls.append(num % 10)\n",
    "        num /= 10\n",
    "    return ls\n",
    "\n",
    "def rev_list_to_num(ls):\n",
    "    res = 0\n",
    "    power = 1\n",
    "    for digit in ls:\n",
    "        res += digit * power\n",
    "        power *= 10\n",
    "    return res"
   ]
  },
  {
   "cell_type": "markdown",
   "metadata": {},
   "source": [
    "# FFT"
   ]
  },
  {
   "cell_type": "code",
   "execution_count": 138,
   "metadata": {
    "collapsed": true
   },
   "outputs": [],
   "source": [
    "def FFT(A, reverse_flag=False):\n",
    "    n = len(A)\n",
    "    if n == 1:\n",
    "#         print A, type(A)\n",
    "        return A\n",
    "    if (n - 1) & n != 0: #test power of 2\n",
    "        raise ValueError('Invalid length of A, must be power of 2.')\n",
    "    w = 1\n",
    "    w_n = np.exp(-2j * np.pi / n) if reverse_flag else np.exp(2j * np.pi / n)\n",
    "    Y = np.zeros(n, dtype=complex)\n",
    "    Y_even = FFT(A[::2], reverse_flag) #even\n",
    "    Y_odd = FFT(A[1::2], reverse_flag) #odd\n",
    "    for k in range(n / 2):\n",
    "        tmp = w * Y_odd[k]\n",
    "        Y[k] = Y_even[k] + tmp\n",
    "        Y[k+n/2] = Y_even[k] - tmp\n",
    "        w = w * w_n\n",
    "    return Y"
   ]
  },
  {
   "cell_type": "code",
   "execution_count": 139,
   "metadata": {
    "collapsed": true
   },
   "outputs": [],
   "source": [
    "def reverse_FFT(Y):\n",
    "    n = len(Y)\n",
    "    A = FFT(Y, reverse_flag=True)\n",
    "    return A.astype(float) / n"
   ]
  },
  {
   "cell_type": "code",
   "execution_count": 201,
   "metadata": {
    "collapsed": true
   },
   "outputs": [],
   "source": [
    "def FFT_polynomial_multiplication(A, B):\n",
    "    ret_type = type(A[0])\n",
    "    degree_a = len(A)\n",
    "    degree_b = len(B)\n",
    "    degree_c = len(A) + len(B) #The ture one should be len(A) + len(B) - 1\n",
    "    A += [0] * (degree_c - degree_a)\n",
    "    B += [0] * (degree_c - degree_b)\n",
    "    C = reverse_FFT(FFT(np.array(A)) * FFT(np.array(B)))\n",
    "    return np.round(C[:-1]).astype(ret_type)"
   ]
  },
  {
   "cell_type": "code",
   "execution_count": 208,
   "metadata": {
    "collapsed": false
   },
   "outputs": [
    {
     "name": "stdout",
     "output_type": "stream",
     "text": [
      "1 loops, best of 3: 3 s per loop\n",
      "1 loops, best of 3: 378 ms per loop\n"
     ]
    },
    {
     "name": "stderr",
     "output_type": "stream",
     "text": [
      "e:\\Anaconda2\\lib\\site-packages\\ipykernel\\__main__.py:4: ComplexWarning: Casting complex values to real discards the imaginary part\n"
     ]
    }
   ],
   "source": [
    "def random_array(power = 12):\n",
    "    arr = []\n",
    "    import random\n",
    "    for i in range(2 ** power):\n",
    "        arr.append(random.randrange(-2 ** power, 2 ** power))\n",
    "    return arr\n",
    "\n",
    "# A = [9, -10, 7, 6]\n",
    "# B = [-5, 4, 0, -2]\n",
    "A = random_array()\n",
    "B = random_array()\n",
    "# print polynomial_multiplication2(A[:], B[:])\n",
    "# print FFT_polynomial_multiplication(A[:], B[:])\n",
    "%timeit polynomial_multiplication2(A[:], B[:])\n",
    "%timeit FFT_polynomial_multiplication(A[:], B[:])"
   ]
  }
 ],
 "metadata": {
  "kernelspec": {
   "display_name": "Python 2",
   "language": "python",
   "name": "python2"
  },
  "language_info": {
   "codemirror_mode": {
    "name": "ipython",
    "version": 2
   },
   "file_extension": ".py",
   "mimetype": "text/x-python",
   "name": "python",
   "nbconvert_exporter": "python",
   "pygments_lexer": "ipython2",
   "version": "2.7.11"
  }
 },
 "nbformat": 4,
 "nbformat_minor": 0
}
