{
 "cells": [
  {
   "cell_type": "markdown",
   "metadata": {},
   "source": [
    "# 2. Add Two Numbers\n",
    "Difficulty: Medium\n",
    "\n",
    ">You are given two linked lists representing two non-negative numbers. The digits are stored in reverse order and each of their nodes contain a single digit. Add the two numbers and return it as a linked list.\n",
    "\n",
    ">Input: (2 -> 4 -> 3) + (5 -> 6 -> 4)\n",
    ">Output: 7 -> 0 -> 8"
   ]
  },
  {
   "cell_type": "code",
   "execution_count": 21,
   "metadata": {},
   "outputs": [],
   "source": [
    "# Definition for singly-linked list.\n",
    "# class ListNode(object):\n",
    "#     def __init__(self, x):\n",
    "#         self.val = x\n",
    "#         self.next = None\n",
    "\n",
    "class Solution(object):\n",
    "    def addTwoNumbers(self, l1, l2):\n",
    "        \"\"\"\n",
    "        :type l1: ListNode\n",
    "        :type l2: ListNode\n",
    "        :rtype: ListNode\n",
    "        \"\"\"\n",
    "        head = ListNode(0)\n",
    "        currNode = head\n",
    "        carry = 0\n",
    "        \n",
    "        while l1 or l2 or carry:\n",
    "             #if carry, then it already added a new node\n",
    "\n",
    "            currNode.next = ListNode(carry)\n",
    "            currNode = currNode.next\n",
    "\n",
    "            if l1:\n",
    "                currNode.val += l1.val\n",
    "                l1 = l1.next\n",
    "                \n",
    "            if l2:\n",
    "                currNode.val += l2.val\n",
    "                l2 = l2.next\n",
    "                \n",
    "            carry = currNode.val / 10\n",
    "            currNode.val =  currNode.val % 10   \n",
    "                \n",
    "        return head.next   #drop the head node"
   ]
  },
  {
   "cell_type": "code",
   "execution_count": 22,
   "metadata": {},
   "outputs": [
    {
     "name": "stdout",
     "output_type": "stream",
     "text": [
      "5\n"
     ]
    }
   ],
   "source": [
    "l1 = ListNode(2)\n",
    "l2 = ListNode(3)\n",
    "print Solution().addTwoNumbers(l1, l2).val"
   ]
  },
  {
   "cell_type": "code",
   "execution_count": null,
   "metadata": {},
   "outputs": [],
   "source": [
    ""
   ]
  }
 ],
 "metadata": {
  "kernelspec": {
   "display_name": "Python 2",
   "language": "python",
   "name": "python2"
  },
  "language_info": {
   "codemirror_mode": {
    "name": "ipython",
    "version": 2.0
   },
   "file_extension": ".py",
   "mimetype": "text/x-python",
   "name": "python",
   "nbconvert_exporter": "python",
   "pygments_lexer": "ipython2",
   "version": "2.7.11"
  }
 },
 "nbformat": 4,
 "nbformat_minor": 0
}