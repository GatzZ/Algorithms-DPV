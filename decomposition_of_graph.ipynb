{
 "cells": [
  {
   "cell_type": "markdown",
   "metadata": {},
   "source": [
    "# Chapter 3 Decompositions of graphs"
   ]
  },
  {
   "cell_type": "code",
   "execution_count": 1,
   "metadata": {},
   "outputs": [],
   "source": [
    "import graph\n",
    "reload(graph)\n",
    "from graph import *"
   ]
  },
  {
   "cell_type": "code",
   "execution_count": 4,
   "metadata": {},
   "outputs": [
    {
     "name": "stdout",
     "output_type": "stream",
     "text": [
      "A component: 1\nA pervisit clock: 1\nB component: 1\nB pervisit clock: 2\nB postvisit clock: 3\nE component: 1\nE pervisit clock: 4\nI component: 1\nI pervisit clock: 5\nJ component: 1\nJ pervisit clock: 6\nJ postvisit clock: 7\nI postvisit clock: 8\nE postvisit clock: 9\nA postvisit clock: 10\nC component: 2\nC pervisit clock: 11\nD component: 2\nD pervisit clock: 12\nH component: 2\nH pervisit clock: 13\nL component: 2\nL pervisit clock: 14\nL postvisit clock: 15\nH postvisit clock: 16\nD postvisit clock: 17\nG component: 2\nG pervisit clock: 18\nK component: 2\nK pervisit clock: 19\nK postvisit clock: 20\nG postvisit clock: 21\nC postvisit clock: 22\nF component: 3\nF pervisit clock: 23\nF postvisit clock: 24\n"
     ]
    }
   ],
   "source": [
    "def DFS(g):\n",
    "    def previsit(node):\n",
    "        #import pdb; pdb.set_trace()\n",
    "        print node, 'component:', component\n",
    "        ccnum[node] = component\n",
    "        global _clock\n",
    "        print node, 'pervisit clock:', _clock\n",
    "        pre[node] = _clock\n",
    "        #引用在赋值之前，Python3有个关键字nonlocal可以解决这个问题，但在Python2中还是不要尝试修改闭包中的变量 （_clock）。\n",
    "        _clock += 1 #如果有重新赋值，python就认为__clock是个内部变量,而不是外部变量。所以我们用全局变量来定义_clock\n",
    "        \n",
    "    def postvisit(node):\n",
    "        global _clock\n",
    "        print node, 'postvisit clock:', _clock\n",
    "        post[node] = _clock\n",
    "        _clock += 1\n",
    "    \n",
    "    def explore(node):\n",
    "        visited[node] = True\n",
    "        previsit(node)\n",
    "        for u in g.edges[node]:\n",
    "            if not visited[u]:\n",
    "                explore(u)\n",
    "        postvisit(node)\n",
    "    \n",
    "    #import pdb; pdb.set_trace()\n",
    "    visited = {}\n",
    "    ccnum = {} #record the components. it is easily achieved in Undirected graph\n",
    "    pre = {}\n",
    "    post = {}\n",
    "    global _clock\n",
    "    _clock = 1\n",
    "    component = 0\n",
    "    \n",
    "    for node in g.nodes:\n",
    "        visited[node] = False\n",
    "        \n",
    "    for node in g.nodes:\n",
    "        if not visited[node]:\n",
    "            component += 1 #Just ecord the components in outer loop of DFS\n",
    "            explore(node)\n",
    "    return pre, post, ccnum\n",
    "\n",
    "#bigraph = load_digraph('data/bigraph_dpv3-2')\n",
    "bigraph = load_digraph('data/bigraph_dpv3-6')\n",
    "pre, post, ccnum = DFS(bigraph)"
   ]
  },
  {
   "cell_type": "code",
   "execution_count": 5,
   "metadata": {},
   "outputs": [
    {
     "name": "stdout",
     "output_type": "stream",
     "text": [
      "A component: 1\nA pervisit clock: 1\nB component: 1\nB pervisit clock: 2\nE component: 1\nE pervisit clock: 3\nF component: 1\nF pervisit clock: 4\nG component: 1\nG pervisit clock: 5\nG postvisit clock: 6\nF postvisit clock: 7\nH component: 1\nH pervisit clock: 8\nH postvisit clock: 9\nE postvisit clock: 10\nB postvisit clock: 11\nC component: 1\nC pervisit clock: 12\nD component: 1\nD pervisit clock: 13\nD postvisit clock: 14\nC postvisit clock: 15\nA postvisit clock: 16\n"
     ]
    }
   ],
   "source": [
    "digraph = load_digraph('data/digraph_dpv3-7')\n",
    "pre, post, _ = DFS(digraph)"
   ]
  },
  {
   "cell_type": "code",
   "execution_count": 6,
   "metadata": {},
   "outputs": [
    {
     "name": "stdout",
     "output_type": "stream",
     "text": [
      "Start->B->D->A->C->F->E\n"
     ]
    }
   ],
   "source": [
    "def DFS(g):\n",
    "    def previsit(node):\n",
    "        ccnum[node] = component\n",
    "        global _clock\n",
    "        pre[node] = _clock\n",
    "        #引用在赋值之前，Python3有个关键字nonlocal可以解决这个问题，但在Python2中还是不要尝试修改闭包中的变量 （_clock）。\n",
    "        _clock += 1 #如果有重新赋值，python就认为_clock是个内部变量,而不是外部变量。所以我们用全局变量来定义_clock\n",
    "        \n",
    "    def postvisit(node):\n",
    "        global _clock\n",
    "        post[node] = _clock\n",
    "        _clock += 1\n",
    "    \n",
    "    def explore(node):\n",
    "        visited[node] = True\n",
    "        previsit(node)\n",
    "        for u in g.edges[node]:\n",
    "            if not visited[u]:\n",
    "                explore(u)\n",
    "        postvisit(node)\n",
    "    \n",
    "    visited = {}\n",
    "    ccnum = {}\n",
    "    pre = {}\n",
    "    post = {}\n",
    "    global _clock\n",
    "    _clock = 1\n",
    "    component = 0\n",
    "    for node in g.nodes:\n",
    "        visited[node] = False      \n",
    "    for node in g.nodes:\n",
    "        if not visited[node]:\n",
    "            component += 1\n",
    "            explore(node)\n",
    "    return pre, post, ccnum\n",
    "\n",
    "def topological_sort(dag):\n",
    "    _, post, _  = DFS(dag)\n",
    "    return sorted(post, key=post.__getitem__, reverse=True) #a sorted list of keys\n",
    "\n",
    "dag = load_digraph('data/digraph_dpv3-8')\n",
    "sorted_nodes = topological_sort(dag)\n",
    "res = 'Start'\n",
    "for node in sorted_nodes:\n",
    "    res = '{0}->{1}'.format(res, node)\n",
    "print res"
   ]
  },
  {
   "cell_type": "code",
   "execution_count": 11,
   "metadata": {},
   "outputs": [
    {
     "name": "stdout",
     "output_type": "stream",
     "text": [
      "A component: 5\nC component: 3\nB component: 4\nE component: 4\nD component: 2\nG component: 1\nF component: 3\nI component: 1\nH component: 1\nK component: 1\nJ component: 1\nL component: 1\n"
     ]
    }
   ],
   "source": [
    "def find_digraph_component(g):\n",
    "    _, post, _ = DFS(g.reverse())\n",
    "    rev_post_nodes = sorted(post, key=post.__getitem__, reverse=True)\n",
    "    g.nodes = rev_post_nodes\n",
    " \n",
    "    _, _, ccnum = DFS(g)\n",
    "    return ccnum\n",
    "\n",
    "digraph = load_digraph('data/digraph_dpv3-9')\n",
    "# print  digraph\n",
    "ccnum = find_digraph_component(digraph)\n",
    "for node in ccnum:\n",
    "    print node, 'component:', ccnum[node]"
   ]
  },
  {
   "cell_type": "markdown",
   "metadata": {},
   "source": [
    "## Exercise chapter 3 "
   ]
  },
  {
   "cell_type": "code",
   "execution_count": 10,
   "metadata": {},
   "outputs": [
    {
     "name": "stdout",
     "output_type": "stream",
     "text": [
      "A 1\nC 3\nB 2\nE 5\nD 13\nG 14\nF 4\nI 7\nH 15\n-------------------------------\nA 12\nC 10\nB 11\nE 6\nD 18\nG 17\nF 9\nI 8\nH 16\n"
     ]
    }
   ],
   "source": [
    "#Ex3.1\n",
    "bigraph = load_bigraph('data/bigraph_dpv_Ex3-1')\n",
    "pre, post, _ = DFS(bigraph)\n",
    "for node in pre:\n",
    "    print node, pre[node]\n",
    "print '-------------------------------'\n",
    "for node in post:\n",
    "    print node, post[node]"
   ]
  },
  {
   "cell_type": "code",
   "execution_count": 13,
   "metadata": {},
   "outputs": [
    {
     "name": "stdout",
     "output_type": "stream",
     "text": [
      "A 3\nC 2\nB 3\nE 3\nD 1\nG 1\nF 1\nI 1\nH 1\n"
     ]
    }
   ],
   "source": [
    "#Ex 3.4\n",
    "digraph = load_digraph('data/bigraph_dpv_Ex3-4-2')\n",
    "ccnum = find_digraph_component(digraph)\n",
    "for node in ccnum:\n",
    "    print node, ccnum[node]"
   ]
  },
  {
   "cell_type": "code",
   "execution_count": 10,
   "metadata": {},
   "outputs": [
    {
     "name": "stdout",
     "output_type": "stream",
     "text": [
      "previsit A 1\nprevisit B 2\nprevisit C 3\nprevisit F 4\nprevisit E 5\npostvisit E 6\nprevisit I 7\npostvisit I 8\npostvisit F 9\npostvisit C 10\npostvisit B 11\npostvisit A 12\nprevisit D 13\nprevisit G 14\nprevisit H 15\npostvisit H 16\npostvisit G 17\npostvisit D 18\nA 1\nC 3\nB 2\nE 5\nD 13\nG 14\nF 4\nI 7\nH 15\n-------------------------------\nA 12\nC 10\nB 11\nE 6\nD 18\nG 17\nF 9\nI 8\nH 16\n-------------------------------\nA 1\nC 1\nB 1\nE 1\nD 2\nG 2\nF 1\nI 1\nH 2\n"
     ]
    }
   ],
   "source": [
    "#Ex 3.10\n",
    "def stack_DFS(g):\n",
    "    def previsit(node):\n",
    "        ccnum[node] = component\n",
    "        global _clock\n",
    "        pre[node] = _clock\n",
    "        print 'previsit', node, _clock\n",
    "        _clock += 1\n",
    "\n",
    "    def postvisit(node):\n",
    "        global _clock\n",
    "        post[node] = _clock\n",
    "        print 'postvisit', node, _clock\n",
    "        _clock += 1\n",
    "\n",
    "    stack = []\n",
    "    ccnum = {}\n",
    "    pre = {}\n",
    "    post = {}\n",
    "    global _clock\n",
    "    _clock = 1\n",
    "    component = 0\n",
    "    import copy\n",
    "    not_visited_nodes = copy.copy(g.nodes)\n",
    "    while not_visited_nodes:\n",
    "        component += 1\n",
    "        node = not_visited_nodes.pop()\n",
    "        stack.append(node)\n",
    "        previsit(node)\n",
    "        while stack:\n",
    "            curr_node = stack[-1]\n",
    "            child_list = g.edges[curr_node]\n",
    "            has_child_to_processed = False\n",
    "            for child in child_list:\n",
    "                if child in not_visited_nodes:\n",
    "                    has_child_to_processed = True\n",
    "                    stack.append(child)\n",
    "                    not_visited_nodes.remove(child)\n",
    "                    previsit(child)\n",
    "                    break\n",
    "            if not has_child_to_processed: #all children have been visited\n",
    "                last_node = stack.pop()\n",
    "                postvisit(last_node)\n",
    "                continue\n",
    "    return pre, post, ccnum\n",
    "\n",
    "bigraph = load_bigraph('data/bigraph_dpv_Ex3-1')\n",
    "pre, post, ccnum = stack_DFS(bigraph)\n",
    "for node in pre:\n",
    "    print node, pre[node]\n",
    "\n",
    "print '-------------------------------'\n",
    "\n",
    "for node in post:\n",
    "    print node, post[node]\n",
    "\n",
    "print '-------------------------------'\n",
    "\n",
    "for node in ccnum:\n",
    "    print node, ccnum[node]"
   ]
  },
  {
   "cell_type": "code",
   "execution_count": 10,
   "metadata": {},
   "outputs": [],
   "source": [
    ""
   ]
  },
  {
   "cell_type": "code",
   "execution_count": null,
   "metadata": {},
   "outputs": [],
   "source": [
    ""
   ]
  }
 ],
 "metadata": {
  "kernelspec": {
   "display_name": "Python 2",
   "language": "python",
   "name": "python2"
  },
  "language_info": {
   "codemirror_mode": {
    "name": "ipython",
    "version": 2.0
   },
   "file_extension": ".py",
   "mimetype": "text/x-python",
   "name": "python",
   "nbconvert_exporter": "python",
   "pygments_lexer": "ipython2",
   "version": "2.7.11"
  }
 },
 "nbformat": 4,
 "nbformat_minor": 0
}