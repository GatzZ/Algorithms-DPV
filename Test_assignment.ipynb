{
 "cells": [
  {
   "cell_type": "code",
   "execution_count": 5,
   "metadata": {
    "collapsed": false
   },
   "outputs": [
    {
     "name": "stdout",
     "output_type": "stream",
     "text": [
      "  2           0 LOAD_FAST                0 (dividend)\n",
      "              3 LOAD_FAST                1 (temp)\n",
      "              6 INPLACE_SUBTRACT    \n",
      "              7 STORE_FAST               0 (dividend)\n",
      "\n",
      "  3          10 LOAD_FAST                2 (res)\n",
      "             13 LOAD_FAST                3 (i)\n",
      "             16 INPLACE_ADD         \n",
      "             17 STORE_FAST               2 (res)\n",
      "\n",
      "  4          20 LOAD_FAST                3 (i)\n",
      "             23 LOAD_CONST               1 (1)\n",
      "             26 INPLACE_LSHIFT      \n",
      "             27 STORE_FAST               3 (i)\n",
      "\n",
      "  5          30 LOAD_FAST                1 (temp)\n",
      "             33 LOAD_CONST               1 (1)\n",
      "             36 INPLACE_LSHIFT      \n",
      "             37 STORE_FAST               1 (temp)\n",
      "             40 LOAD_CONST               0 (None)\n",
      "             43 RETURN_VALUE        \n"
     ]
    }
   ],
   "source": [
    "def test1(dividend, temp, res, i):\n",
    "    dividend -= temp\n",
    "    res += i                \n",
    "    i <<= 1\n",
    "    temp <<= 1\n",
    "import dis\n",
    "dis.dis(test1)"
   ]
  },
  {
   "cell_type": "code",
   "execution_count": 6,
   "metadata": {
    "collapsed": false
   },
   "outputs": [
    {
     "name": "stdout",
     "output_type": "stream",
     "text": [
      "  2           0 LOAD_FAST                0 (dividend)\n",
      "              3 LOAD_FAST                1 (temp)\n",
      "              6 BINARY_SUBTRACT     \n",
      "              7 LOAD_FAST                2 (res)\n",
      "             10 LOAD_FAST                3 (i)\n",
      "             13 BINARY_ADD          \n",
      "             14 ROT_TWO             \n",
      "             15 STORE_FAST               0 (dividend)\n",
      "             18 STORE_FAST               2 (res)\n",
      "\n",
      "  3          21 LOAD_FAST                3 (i)\n",
      "             24 LOAD_CONST               1 (1)\n",
      "             27 BINARY_LSHIFT       \n",
      "             28 LOAD_FAST                1 (temp)\n",
      "             31 LOAD_CONST               1 (1)\n",
      "             34 BINARY_LSHIFT       \n",
      "             35 ROT_TWO             \n",
      "             36 STORE_FAST               3 (i)\n",
      "             39 STORE_FAST               1 (temp)\n",
      "             42 LOAD_CONST               0 (None)\n",
      "             45 RETURN_VALUE        \n"
     ]
    }
   ],
   "source": [
    "def test2(dividend, temp, res, i):\n",
    "    dividend, res =  dividend - temp, res + i\n",
    "    i, temp = i << 1, temp << 1\n",
    "import dis\n",
    "dis.dis(test2)"
   ]
  },
  {
   "cell_type": "code",
   "execution_count": null,
   "metadata": {
    "collapsed": true
   },
   "outputs": [],
   "source": []
  }
 ],
 "metadata": {
  "kernelspec": {
   "display_name": "Python 2",
   "language": "python",
   "name": "python2"
  },
  "language_info": {
   "codemirror_mode": {
    "name": "ipython",
    "version": 2
   },
   "file_extension": ".py",
   "mimetype": "text/x-python",
   "name": "python",
   "nbconvert_exporter": "python",
   "pygments_lexer": "ipython2",
   "version": "2.7.11"
  }
 },
 "nbformat": 4,
 "nbformat_minor": 0
}
