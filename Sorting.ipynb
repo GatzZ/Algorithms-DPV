{
 "cells": [
  {
   "cell_type": "code",
   "execution_count": 52,
   "metadata": {
    "collapsed": true
   },
   "outputs": [],
   "source": [
    "#Bubble Sort\n",
    "def bubble_sort(array):        \n",
    "    #i = n-1, n-2,...,1, then the nested loop will scan array of length i+1 (0, 1,..., i)\n",
    "    for i in range(len(array)-1, 0, -1):\n",
    "        swapped = False\n",
    "        #Put the biggest one to array(i)   \n",
    "        for j in range(0, i):\n",
    "            if array[j] > array[j+1]:\n",
    "                array[j], array[j+1] = array[j+1], array[j]\n",
    "                swapped = True     \n",
    "        if not swapped:\n",
    "            break\n",
    "\n",
    "    return array  "
   ]
  },
  {
   "cell_type": "code",
   "execution_count": 64,
   "metadata": {
    "collapsed": true
   },
   "outputs": [],
   "source": [
    "#Insertion Sort 1\n",
    "def insertion_sort1(array):    \n",
    "    for i in range(1, len(array)):\n",
    "        for j in range(i, 0, -1):\n",
    "            if array[j-1] > array[j]:\n",
    "                array[j-1], array[j] = array[j], array[j-1]\n",
    "            else:# The first (i-1) positions were sorted\n",
    "                break\n",
    "    return array"
   ]
  },
  {
   "cell_type": "code",
   "execution_count": null,
   "metadata": {
    "collapsed": false
   },
   "outputs": [],
   "source": [
    "#Insertion Sort 2\n",
    "def insertion_sort2(array):    \n",
    "    for i in range(1, len(array)):\n",
    "        t = array[i]\n",
    "        ####\n",
    "        j = i\n",
    "        while j > 0 and array[j-1] > t:\n",
    "            array[j] = array[j-1]\n",
    "            j -= 1\n",
    "        ####\n",
    "        #####C-version. mind the difference\n",
    "        #for (j=i; j>0 && x[j-1] > t; j--)\n",
    "        #    x[j] = x[j-1]\n",
    "        #####\n",
    "        array[j] = t\n",
    "    return array"
   ]
  },
  {
   "cell_type": "code",
   "execution_count": 14,
   "metadata": {
    "collapsed": false
   },
   "outputs": [],
   "source": [
    "import pdb\n",
    "def merge_sort(array):\n",
    "    #pdb.set_trace()\n",
    "    if len(array) > 1:\n",
    "        middle = len(array) / 2\n",
    "        return merge(merge_sort(array[:middle]), merge_sort(array[middle:]))\n",
    "    else:\n",
    "        return array\n",
    "\n",
    "def merge(array1, array2):\n",
    "    if not array1:\n",
    "        return array2\n",
    "    \n",
    "    if not array2:\n",
    "        return array1\n",
    "    \n",
    "    if array1[0] <= array2[0]:\n",
    "        return array1[0:1] + merge(array1[1:], array2)\n",
    "    else:\n",
    "        return array2[0:1] + merge(array2[1:], array1)"
   ]
  },
  {
   "cell_type": "code",
   "execution_count": 9,
   "metadata": {
    "collapsed": false
   },
   "outputs": [
    {
     "name": "stdout",
     "output_type": "stream",
     "text": [
      "iteraion 0 : [3, 1, 4, 2, -1, 5, 8, 3, 9]\n",
      "iteraion 1 : [3, 1, 4, 2, 5, 8, 3, 9]\n",
      "iteraion 2 : [3, 4, 2, 5, 8, 3, 9]\n",
      "iteraion 3 : [3, 4, 5, 8, 3, 9]\n",
      "iteraion 4 : [4, 5, 8, 3, 9]\n",
      "iteraion 5 : [4, 5, 8, 9]\n",
      "iteraion 6 : [5, 8, 9]\n",
      "iteraion 7 : [8, 9]\n",
      "iteraion 8 : [9]\n",
      "result:  [-1, 1, 2, 3, 3, 4, 5, 8, 9]\n"
     ]
    }
   ],
   "source": [
    "def merge(item1, item2):\n",
    "    if item1 < item2:\n",
    "        return item1\n",
    "    else:\n",
    "        return item2\n",
    "\n",
    "def enqueue(array, item):\n",
    "    array.append(item)\n",
    "\n",
    "def dequeue(array):\n",
    "    if len(array) > 0:\n",
    "        return array.pop(0)\n",
    "    else:\n",
    "        return None\n",
    "\n",
    "def iterative_mergesort(array):\n",
    "    while len(array) > 1:\n",
    "        enqueue(array, merge(dequeue(array), dequeue(array)))\n",
    "    return dequeue(array)\n",
    "\n",
    "array = [3, 1, 4, 2, -1, 5, 8 ,3, 9]\n",
    "result = []\n",
    "for i in range(len(array)):\n",
    "    print 'iteraion', i, ':', array\n",
    "    tmp = iterative_mergesort(array[:])\n",
    "    array.remove(tmp)\n",
    "    result.append(tmp)\n",
    "\n",
    "print 'result: ', result "
   ]
  },
  {
   "cell_type": "code",
   "execution_count": 109,
   "metadata": {
    "collapsed": false
   },
   "outputs": [
    {
     "name": "stdout",
     "output_type": "stream",
     "text": [
      "[54, 52, 60, -62, 53, 76, 18, 46, -15, 39, -3, -18, -38, 82, -62, 20, 16, -24, -91, -84, -61, 75, 7, -28, 66, -97, 29, -63, 50, 70, -57, -98, -30, 40, 48, -74, 5, -18, -82, -61, 74, -45, 46, -4, 36, -96, 95, -69, 25, -3, -97, 62, -87, -12, 81, 6, -18, -96, 81, 54, -100, 88, -83, 35, 22, 20, 98, 52, 0, 46, -85, 35, -90, 36, 71, 72, 69, 22, -63, 39, 8, 29, -27, -97, 57, 23, 40, 83, -1, 41, -58, -75, 87, -28, 55, 94, -33, -30, 73, 82]\n",
      "[-100, -98, -97, -97, -97, -96, -96, -91, -90, -87, -85, -84, -83, -82, -75, -74, -69, -63, -63, -62, -62, -61, -61, -58, -57, -45, -38, -33, -30, -30, -28, -28, -27, -24, -18, -18, -18, -15, -12, -4, -3, -3, -1, 0, 5, 6, 7, 8, 16, 18, 20, 20, 22, 22, 23, 25, 29, 29, 35, 35, 36, 36, 39, 39, 40, 40, 41, 46, 46, 46, 48, 50, 52, 52, 53, 54, 54, 55, 57, 60, 62, 66, 69, 70, 71, 72, 73, 74, 75, 76, 81, 81, 82, 82, 83, 87, 88, 94, 95, 98]\n",
      "[-100, -98, -97, -97, -97, -96, -96, -91, -90, -87, -85, -84, -83, -82, -75, -74, -69, -63, -63, -62, -62, -61, -61, -58, -57, -45, -38, -33, -30, -30, -28, -28, -27, -24, -18, -18, -18, -15, -12, -4, -3, -3, -1, 0, 5, 6, 7, 8, 16, 18, 20, 20, 22, 22, 23, 25, 29, 29, 35, 35, 36, 36, 39, 39, 40, 40, 41, 46, 46, 46, 48, 50, 52, 52, 53, 54, 54, 55, 57, 60, 62, 66, 69, 70, 71, 72, 73, 74, 75, 76, 81, 81, 82, 82, 83, 87, 88, 94, 95, 98]\n",
      "[-100, -98, -97, -97, -97, -96, -96, -91, -90, -87, -85, -84, -83, -82, -75, -74, -69, -63, -63, -62, -62, -61, -61, -58, -57, -45, -38, -33, -30, -30, -28, -28, -27, -24, -18, -18, -18, -15, -12, -4, -3, -3, -1, 0, 5, 6, 7, 8, 16, 18, 20, 20, 22, 22, 23, 25, 29, 29, 35, 35, 36, 36, 39, 39, 40, 40, 41, 46, 46, 46, 48, 50, 52, 52, 53, 54, 54, 55, 57, 60, 62, 66, 69, 70, 71, 72, 73, 74, 75, 76, 81, 81, 82, 82, 83, 87, 88, 94, 95, 98]\n"
     ]
    }
   ],
   "source": [
    "def random_array(num = 100):\n",
    "    arr = []\n",
    "    import random\n",
    "    for i in range(num):\n",
    "        arr.append(random.randrange(-num, num))\n",
    "    return arr\n",
    "\n",
    "#a = [2, 4, 1, 3, 0 ,7, 9 ,4, 5, 20, 11, 2, 7, -1]\n",
    "a = random_array()\n",
    "print a\n",
    "b = bubble_sort(a)\n",
    "print b\n",
    "c = insertion_sort1(a)\n",
    "print c\n",
    "d = insertion_sort2(a)\n",
    "print d\n",
    "e = merge_sort(a)"
   ]
  },
  {
   "cell_type": "code",
   "execution_count": 7,
   "metadata": {
    "collapsed": false
   },
   "outputs": [
    {
     "data": {
      "text/plain": [
       "True"
      ]
     },
     "execution_count": 7,
     "metadata": {},
     "output_type": "execute_result"
    }
   ],
   "source": [
    "2 > None"
   ]
  },
  {
   "cell_type": "code",
   "execution_count": null,
   "metadata": {
    "collapsed": true
   },
   "outputs": [],
   "source": []
  }
 ],
 "metadata": {
  "kernelspec": {
   "display_name": "Python 2",
   "language": "python",
   "name": "python2"
  },
  "language_info": {
   "codemirror_mode": {
    "name": "ipython",
    "version": 2
   },
   "file_extension": ".py",
   "mimetype": "text/x-python",
   "name": "python",
   "nbconvert_exporter": "python",
   "pygments_lexer": "ipython2",
   "version": "2.7.11"
  }
 },
 "nbformat": 4,
 "nbformat_minor": 0
}
