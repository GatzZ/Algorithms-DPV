{
 "cells": [
  {
   "cell_type": "markdown",
   "metadata": {},
   "source": [
    "# 29. Divide Two Integers\n",
    "\n",
    "Difficulty: **Medium**\n",
    "\n",
    ">Divide two integers without using multiplication, division and mod operator.\n",
    "If it is overflow, return MAX_INT."
   ]
  },
  {
   "cell_type": "code",
   "execution_count": 55,
   "metadata": {
    "collapsed": false
   },
   "outputs": [
    {
     "name": "stdout",
     "output_type": "stream",
     "text": [
      "5\n"
     ]
    }
   ],
   "source": [
    "#My recursive solution\n",
    "class Solution(object):\n",
    "    def divide(self, dividend, divisor):\n",
    "        \"\"\"\n",
    "        :type dividend: int\n",
    "        :type divisor: int\n",
    "        :rtype: int\n",
    "        \"\"\"\n",
    "        positive = (dividend < 0) is (divisor < 0)\n",
    "        dividend, divisor = abs(dividend), abs(divisor)\n",
    "        quotient, remainder = self.divide_helper(dividend, divisor)\n",
    "        if not positive:\n",
    "            quotient = -quotient\n",
    "            remainder = -remainder\n",
    "        return min(2147483647, max(quotient, -2147483648)) #restrict the range\n",
    "    \n",
    "    def divide_helper(self, dividend, divisor):\n",
    "        if dividend == 0:\n",
    "            return 0, 0\n",
    "        else:\n",
    "            quotient, remainder = self.divide_helper(dividend >> 1, divisor) #recursive\n",
    "        \n",
    "        quotient <<= 1 \n",
    "        remainder <<= 1\n",
    "        \n",
    "        if (dividend & 1) == 1: #dividend is odd\n",
    "            remainder += 1\n",
    "        \n",
    "        if remainder >= divisor: #!!!! is >=   not >\n",
    "            remainder -= divisor\n",
    "            quotient += 1\n",
    "        return quotient, remainder\n"
   ]
  },
  {
   "cell_type": "code",
   "execution_count": 1,
   "metadata": {
    "collapsed": false
   },
   "outputs": [],
   "source": [
    "#https://leetcode.com/discuss/25029/clear-python-code\n",
    "class Solution:\n",
    "# @return an integer\n",
    "    def divide(self, dividend, divisor):\n",
    "        positive = (dividend < 0) is (divisor < 0)\n",
    "        dividend, divisor = abs(dividend), abs(divisor)\n",
    "        res = 0\n",
    "        #当dividend >= divisor时，那么我们可以减去k * divisor，其中k = sum(2^0, 2^1,...)\n",
    "        while dividend >= divisor:\n",
    "            temp, i = divisor, 1\n",
    "            #在每一轮中减去(2^i) * divisor，逐步减小dividend的值,并且将(2^i)记录在res中\n",
    "            while dividend >= temp:\n",
    "#                 dividend -= temp\n",
    "#                 res += i                \n",
    "#                i <<= 1\n",
    "#                temp <<= 1\n",
    "                dividend, res =  dividend - temp, res + i\n",
    "                i, temp = i << 1, temp << 1\n",
    "#                dividend, res, i, temp =  dividend - temp, res + i, i << 1, temp << 1\n",
    "        if not positive:\n",
    "            res = -res\n",
    "        return min(max(-2147483648, res), 2147483647)  "
   ]
  },
  {
   "cell_type": "code",
   "execution_count": 56,
   "metadata": {
    "collapsed": false
   },
   "outputs": [
    {
     "name": "stdout",
     "output_type": "stream",
     "text": [
      "1\n"
     ]
    }
   ],
   "source": [
    "a = Solution().divide(3, 2)\n",
    "print a"
   ]
  }
 ],
 "metadata": {
  "kernelspec": {
   "display_name": "Python 2",
   "language": "python",
   "name": "python2"
  },
  "language_info": {
   "codemirror_mode": {
    "name": "ipython",
    "version": 2
   },
   "file_extension": ".py",
   "mimetype": "text/x-python",
   "name": "python",
   "nbconvert_exporter": "python",
   "pygments_lexer": "ipython2",
   "version": "2.7.11"
  }
 },
 "nbformat": 4,
 "nbformat_minor": 0
}
